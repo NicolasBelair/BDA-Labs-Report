{
 "cells": [
  {
   "cell_type": "code",
   "execution_count": 3,
   "id": "scheduled-celebrity",
   "metadata": {},
   "outputs": [],
   "source": [
    "import numpy as np\n",
    "import pandas as pd\n",
    "import matplotlib.pyplot as plt\n",
    "import itertools as iter_t\n",
    "\n",
    "retail_data = [i.strip().split() for i in open(\"retail.dat\").readlines()]\n",
    "\n",
    "retail_data = pd.DataFrame(retail_data)\n",
    "\n",
    "# allocate a limited number of rows, for testing\n",
    "retail_data = retail_data[:100]"
   ]
  },
  {
   "cell_type": "markdown",
   "id": "commercial-album",
   "metadata": {},
   "source": [
    "# Random Sampling"
   ]
  },
  {
   "cell_type": "code",
   "execution_count": 21,
   "id": "saving-eugene",
   "metadata": {},
   "outputs": [],
   "source": [
    "def random_sampling(data, min_support=0.05, min_confidence=0.10):\n",
    "    \n",
    "    total_transactions = len(data)\n",
    "    \n",
    "    reduction = 5\n",
    "    \n",
    "    data = data.sample(n=int(total_transactions/reduction))\n",
    "    data.reset_index(inplace=True, drop=True)\n",
    "    min_support = min_support / reduction\n",
    "    \n",
    "    def n_candidate(prev_L, n):\n",
    "        names_helper = np.array([], dtype=int)\n",
    "        for i in range(n-1):\n",
    "            names_helper = np.append(names_helper, prev_L[i].to_numpy(dtype=int))\n",
    "            \n",
    "        candidate         = iter_t.combinations(set(names_helper), n)\n",
    "        candidate         = pd.DataFrame([i for i in candidate])\n",
    "        if len(candidate) == 0:\n",
    "            return candidate\n",
    "        candidate[\"freq\"] = np.zeros(len(candidate[0]), dtype=int)\n",
    "        \n",
    "        candidate.is_copy = False\n",
    "        \n",
    "        for i in range(data.shape[0]):\n",
    "            for j in range(candidate.shape[0]):\n",
    "                if set(candidate.loc[j][0:n].to_numpy(dtype=int)).issubset(set(data.loc[i].dropna().to_numpy(dtype=int))):\n",
    "                    candidate.loc[j, \"freq\"] += 1\n",
    "        return candidate\n",
    "    \n",
    "    # get unique items\n",
    "    # construct array of all items\n",
    "    items     = []\n",
    "    hash_dict = {}\n",
    "    for i in range(data.shape[1]):\n",
    "        for j in range(data.shape[0]):\n",
    "            items.append(data[i][j])\n",
    "        \n",
    "    unique_items = list(set(items))\n",
    "    \n",
    "    # construct candidate sets\n",
    "    C = []\n",
    "    L = []\n",
    "    \n",
    "    C1 = []\n",
    "    for val in unique_items:\n",
    "        C1.append((val, items.count(val)))\n",
    "    \n",
    "    #total_transactions = len(data)\n",
    "    \n",
    "    del(items)\n",
    "    \n",
    "    C1 = pd.DataFrame(C1, columns=[0, \"freq\"], dtype=int)\n",
    "    C1 = C1.dropna()\n",
    "    \n",
    "    C1[\"conf\"] = np.ones(len(C1[0]), dtype=float)\n",
    "    C1[\"sup\"]  = C1[\"freq\"] / total_transactions\n",
    "    \n",
    "    L1 = C1[C1[\"sup\"] >= min_support]\n",
    "    L1 = L1.astype({0: int})\n",
    "    \n",
    "    C.append(C1)\n",
    "    L.append(L1)\n",
    "    \n",
    "    def conf(_L, prevL, n):\n",
    "        # Build confidence\n",
    "        pd.set_option('mode.chained_assignment', 'warn')\n",
    "        _L[\"conf\"] = np.zeros(len(_L[0]), dtype=float)\n",
    "\n",
    "        _L.is_copy = False\n",
    "        for i in range(len(_L[\"freq\"])):\n",
    "            oldSup = _L[\"freq\"].iloc[i]                                        #(prevL[\"freq\"][prevL.iloc[:, 0:n] == L_cur[0:n]]).iat[0]\n",
    "            for j in range(len(prevL[0])):\n",
    "                if set(prevL.iloc[j, 0:n-1]) == set(_L.iloc[i, 0:n-1]):\n",
    "                    oldSup = prevL[\"freq\"].iloc[j]\n",
    "                    break\n",
    "            _L[\"conf\"].iloc[i] = (_L[\"freq\"].iloc[i] / oldSup)\n",
    "        \n",
    "        return _L\n",
    "        \n",
    "    \n",
    "    i = 2\n",
    "    \n",
    "    if len(L1[0]) == 0:\n",
    "        return L\n",
    "    \n",
    "    while True:\n",
    "        cand         = n_candidate(L[i-2], i)\n",
    "        if len(cand) == 0:\n",
    "            break\n",
    "        cand[\"sup\"]  = cand[\"freq\"] / total_transactions\n",
    "        L_cur        = cand[cand[\"sup\"] >= min_support]\n",
    "        \n",
    "        if len(L_cur[0]) == 0:\n",
    "            break\n",
    "        \n",
    "        L_cur = conf(L_cur, L[i-2], i)\n",
    "        \n",
    "        L_cur = L_cur[L_cur[\"conf\"] >= min_confidence]\n",
    "        \n",
    "        C.append(cand)\n",
    "        L.append(L_cur)\n",
    "        i += 1\n",
    "    \n",
    "    return L"
   ]
  },
  {
   "cell_type": "code",
   "execution_count": 26,
   "id": "periodic-albany",
   "metadata": {
    "scrolled": false
   },
   "outputs": [
    {
     "name": "stderr",
     "output_type": "stream",
     "text": [
      "/home/howling/.local/lib/python3.8/site-packages/pandas/core/indexing.py:1637: SettingWithCopyWarning: \n",
      "A value is trying to be set on a copy of a slice from a DataFrame\n",
      "\n",
      "See the caveats in the documentation: https://pandas.pydata.org/pandas-docs/stable/user_guide/indexing.html#returning-a-view-versus-a-copy\n",
      "  self._setitem_single_block(indexer, value, name)\n",
      "<ipython-input-21-c8e457a11083>:67: SettingWithCopyWarning: \n",
      "A value is trying to be set on a copy of a slice from a DataFrame.\n",
      "Try using .loc[row_indexer,col_indexer] = value instead\n",
      "\n",
      "See the caveats in the documentation: https://pandas.pydata.org/pandas-docs/stable/user_guide/indexing.html#returning-a-view-versus-a-copy\n",
      "  _L[\"conf\"] = np.zeros(len(_L[0]), dtype=float)\n",
      "/home/howling/.local/lib/python3.8/site-packages/pandas/core/indexing.py:1637: SettingWithCopyWarning: \n",
      "A value is trying to be set on a copy of a slice from a DataFrame\n",
      "\n",
      "See the caveats in the documentation: https://pandas.pydata.org/pandas-docs/stable/user_guide/indexing.html#returning-a-view-versus-a-copy\n",
      "  self._setitem_single_block(indexer, value, name)\n",
      "/home/howling/.local/lib/python3.8/site-packages/pandas/core/indexing.py:692: SettingWithCopyWarning: \n",
      "A value is trying to be set on a copy of a slice from a DataFrame\n",
      "\n",
      "See the caveats in the documentation: https://pandas.pydata.org/pandas-docs/stable/user_guide/indexing.html#returning-a-view-versus-a-copy\n",
      "  iloc._setitem_with_indexer(indexer, value, self.name)\n"
     ]
    },
    {
     "data": {
      "text/plain": [
       "[     0  freq  conf   sup\n",
       " 0   39    11   1.0  0.11\n",
       " 58  41     7   1.0  0.07\n",
       " 94  48    10   1.0  0.10\n",
       " 96  38     8   1.0  0.08,\n",
       "     0   1  freq   sup      conf\n",
       " 0  48  41     3  0.03  0.300000\n",
       " 1  48  38     4  0.04  0.400000\n",
       " 2  48  39     6  0.06  0.600000\n",
       " 3  41  38     6  0.06  0.857143\n",
       " 4  41  39     6  0.06  0.857143\n",
       " 5  38  39     6  0.06  0.750000,\n",
       "     0   1   2  freq   sup      conf\n",
       " 1  48  41  39     3  0.03  1.000000\n",
       " 2  48  38  39     3  0.03  0.750000\n",
       " 3  41  38  39     5  0.05  0.833333]"
      ]
     },
     "execution_count": 26,
     "metadata": {},
     "output_type": "execute_result"
    }
   ],
   "source": [
    "res = random_sampling(retail_data, min_support=0.15)\n",
    "res"
   ]
  },
  {
   "cell_type": "markdown",
   "id": "minimal-rhythm",
   "metadata": {},
   "source": [
    "# SON"
   ]
  },
  {
   "cell_type": "code",
   "execution_count": null,
   "id": "binding-position",
   "metadata": {},
   "outputs": [],
   "source": []
  }
 ],
 "metadata": {
  "kernelspec": {
   "display_name": "Python 3",
   "language": "python",
   "name": "python3"
  },
  "language_info": {
   "codemirror_mode": {
    "name": "ipython",
    "version": 3
   },
   "file_extension": ".py",
   "mimetype": "text/x-python",
   "name": "python",
   "nbconvert_exporter": "python",
   "pygments_lexer": "ipython3",
   "version": "3.8.5"
  }
 },
 "nbformat": 4,
 "nbformat_minor": 5
}
